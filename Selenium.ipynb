{
 "cells": [
  {
   "cell_type": "code",
   "execution_count": 817,
   "metadata": {},
   "outputs": [
    {
     "name": "stdout",
     "output_type": "stream",
     "text": [
      "Requirement already satisfied: selenium in /Users/irazemagarcia/opt/anaconda3/lib/python3.8/site-packages (4.8.3)\n",
      "Requirement already satisfied: urllib3[socks]~=1.26 in /Users/irazemagarcia/opt/anaconda3/lib/python3.8/site-packages (from selenium) (1.26.15)\n",
      "Requirement already satisfied: trio~=0.17 in /Users/irazemagarcia/opt/anaconda3/lib/python3.8/site-packages (from selenium) (0.22.0)\n",
      "Requirement already satisfied: trio-websocket~=0.9 in /Users/irazemagarcia/opt/anaconda3/lib/python3.8/site-packages (from selenium) (0.10.2)\n",
      "Requirement already satisfied: certifi>=2021.10.8 in /Users/irazemagarcia/opt/anaconda3/lib/python3.8/site-packages (from selenium) (2022.12.7)\n",
      "Requirement already satisfied: attrs>=19.2.0 in /Users/irazemagarcia/opt/anaconda3/lib/python3.8/site-packages (from trio~=0.17->selenium) (20.3.0)\n",
      "Requirement already satisfied: sortedcontainers in /Users/irazemagarcia/opt/anaconda3/lib/python3.8/site-packages (from trio~=0.17->selenium) (2.3.0)\n",
      "Requirement already satisfied: async-generator>=1.9 in /Users/irazemagarcia/opt/anaconda3/lib/python3.8/site-packages (from trio~=0.17->selenium) (1.10)\n",
      "Requirement already satisfied: idna in /Users/irazemagarcia/opt/anaconda3/lib/python3.8/site-packages (from trio~=0.17->selenium) (2.8)\n",
      "Requirement already satisfied: outcome in /Users/irazemagarcia/opt/anaconda3/lib/python3.8/site-packages (from trio~=0.17->selenium) (1.2.0)\n",
      "Requirement already satisfied: sniffio in /Users/irazemagarcia/opt/anaconda3/lib/python3.8/site-packages (from trio~=0.17->selenium) (1.2.0)\n",
      "Requirement already satisfied: exceptiongroup>=1.0.0rc9 in /Users/irazemagarcia/opt/anaconda3/lib/python3.8/site-packages (from trio~=0.17->selenium) (1.1.1)\n",
      "Requirement already satisfied: wsproto>=0.14 in /Users/irazemagarcia/opt/anaconda3/lib/python3.8/site-packages (from trio-websocket~=0.9->selenium) (1.2.0)\n",
      "Requirement already satisfied: PySocks!=1.5.7,<2.0,>=1.5.6 in /Users/irazemagarcia/opt/anaconda3/lib/python3.8/site-packages (from urllib3[socks]~=1.26->selenium) (1.7.1)\n",
      "Requirement already satisfied: h11<1,>=0.9.0 in /Users/irazemagarcia/opt/anaconda3/lib/python3.8/site-packages (from wsproto>=0.14->trio-websocket~=0.9->selenium) (0.14.0)\n",
      "Note: you may need to restart the kernel to use updated packages.\n"
     ]
    }
   ],
   "source": [
    "pip install selenium"
   ]
  },
  {
   "cell_type": "code",
   "execution_count": 818,
   "metadata": {},
   "outputs": [],
   "source": [
    "from selenium import webdriver\n",
    "from bs4 import BeautifulSoup\n",
    "import requests\n",
    "import pandas as pd\n",
    "import regex as re\n",
    "driver = webdriver.Firefox()\n",
    "\n"
   ]
  },
  {
   "cell_type": "code",
   "execution_count": 819,
   "metadata": {},
   "outputs": [],
   "source": [
    "\n",
    "#driver.get(\"http://selenium.dev\")\n"
   ]
  },
  {
   "cell_type": "code",
   "execution_count": 820,
   "metadata": {},
   "outputs": [],
   "source": [
    "from selenium.webdriver.common.by import By\n",
    "from selenium.webdriver.common.keys import Keys"
   ]
  },
  {
   "cell_type": "code",
   "execution_count": 821,
   "metadata": {},
   "outputs": [],
   "source": [
    "#driver.get('http://www.yahoo.com')\n",
    "#assert 'Yahoo' in driver.title\n",
    "\n"
   ]
  },
  {
   "cell_type": "code",
   "execution_count": 822,
   "metadata": {},
   "outputs": [],
   "source": [
    "#elem = driver.find_element(By.NAME, 'p')  # Find the search box\n",
    "#elem.send_keys('seleniumhq' + Keys.RETURN)"
   ]
  },
  {
   "cell_type": "code",
   "execution_count": 823,
   "metadata": {},
   "outputs": [],
   "source": [
    "#driver.quit()"
   ]
  },
  {
   "cell_type": "code",
   "execution_count": 824,
   "metadata": {},
   "outputs": [],
   "source": [
    "driver.get('https://www.ncbi.nlm.nih.gov/sra')\n"
   ]
  },
  {
   "cell_type": "code",
   "execution_count": 825,
   "metadata": {},
   "outputs": [],
   "source": [
    "# ngs_seq_search = input(\"Type the name of technology and organism you want to find:\")\n",
    "elem = driver.find_element(By.NAME, 'term')\n",
    "elem.send_keys('direct RNA-seq and bacteria and ONT' + Keys.RETURN)\n",
    "# elem.send_keys(ngs_seq_search + Keys.RETURN)\n",
    "\n"
   ]
  },
  {
   "cell_type": "code",
   "execution_count": 826,
   "metadata": {},
   "outputs": [],
   "source": [
    "src = driver.page_source\n",
    "# BeautifulSoup(src.content, \"html.parser\")\n",
    "parser = BeautifulSoup(src, \"lxml\")\n",
    "table = parser.find(\"table\", attrs={\"class\": \"rprtid\"})\n",
    "dl_data = parser.find_all(\"dd\")\n",
    "# print(dl_data)\n",
    "\n",
    "for dlitem in dl_data:\n",
    "    accession_list = dlitem.string\n",
    "    print(accession_list)\n",
    "\n",
    "\n",
    "   \n",
    "    # print(accession_list)\n",
    "    # df1 = pd.DataFrame(accession_list)\n",
    "    # print(df1)\n",
    "# print(accession_list)\n",
    "    # accession_list_df = dl_data\n",
    "\n",
    "    # import numpy as np\n",
    "    # array = np.array([1.2, accession_list_df], dtype=object)\n",
    "    # print(array)\n",
    "# print(accession_list_df)\n",
    "    # array.to_csv('/Users/irazemagarcia/MS_Bioinformatics/Advanced Data Management/Final project/Final_script/data/accession_list.csv')\n",
    "    # print(accession_list)\n",
    "    # dlitem.string\n",
    "    # print (dlitem.string)\n",
    "\n",
    "    # df = DataFrame(eval(data,columns=columnsss ))\n",
    "\n",
    "    # df = accession_list\n",
    "    # print(df)\n",
    "    # df.to_csv('/Users/irazemagarcia/MS_Bioinformatics/Advanced Data Management/Final project/Final_script/data/file.csv')\n",
    "\n",
    "# header = [dt.getText() for dt in table.findAll('dd', limit=2)[0].findAll('dt')]\n",
    "# header = table.findAll('dl')\n",
    "# print(parser)\n",
    "# print(src)\n",
    "# print(table)\n",
    "# print(header)\n",
    "# https://stackoverflow.com/questions/32475700/using-beautifulsoup-to-extract-specific-dl-and-dd-list-elements"
   ]
  },
  {
   "cell_type": "code",
   "execution_count": 827,
   "metadata": {},
   "outputs": [],
   "source": [
    "#Make a list\n",
    "data = []\n",
    "for i in range(0, len(dl_data)):\n",
    "    rows = dl_data[i].get_text()\n",
    "    data.append(rows)"
   ]
  },
  {
   "cell_type": "code",
   "execution_count": 828,
   "metadata": {},
   "outputs": [
    {
     "name": "stdout",
     "output_type": "stream",
     "text": [
      "[]\n"
     ]
    },
    {
     "data": {
      "text/plain": [
       "0"
      ]
     },
     "execution_count": 828,
     "metadata": {},
     "output_type": "execute_result"
    }
   ],
   "source": [
    "#Clean list\n",
    "data = data[:-1]\n",
    "print(data)\n",
    "len(data)"
   ]
  },
  {
   "cell_type": "code",
   "execution_count": 829,
   "metadata": {},
   "outputs": [],
   "source": [
    "#Get accession numbers and turn them into a text file. Important for METADATA\n",
    "textfile = open(\"accn.txt\", \"w\")\n",
    "for an in data:\n",
    "    textfile.write(an + \"\\n\")\n",
    "textfile.close()"
   ]
  },
  {
   "cell_type": "code",
   "execution_count": 831,
   "metadata": {},
   "outputs": [],
   "source": [
    "#Go to run selector\n",
    "selector = driver.find_element(By.ID, 'id-sra-run-selector-popup')\n",
    "selector.click()"
   ]
  },
  {
   "cell_type": "code",
   "execution_count": null,
   "metadata": {},
   "outputs": [],
   "source": [
    "#Get run selector table\n",
    "src = driver.page_source\n",
    "parser = BeautifulSoup(src, \"lxml\")\n",
    "selector_table = parser.find(\"table\", attrs={\"class\": \"ui selectable striped celled very compact table single line\"})\n",
    "#selector_table = parser.find(\"div\", attrs={\"id\": \"ph-rs-table\"})\n",
    "headers = selector_table.find_all(\"th\")\n",
    "headerlist = [h.text.strip() for h in headers [1:]] #Delete spaces and other format\n",
    "\n",
    "# print(selector_table)"
   ]
  },
  {
   "cell_type": "code",
   "execution_count": null,
   "metadata": {},
   "outputs": [],
   "source": [
    "# headerlist"
   ]
  },
  {
   "cell_type": "code",
   "execution_count": null,
   "metadata": {},
   "outputs": [],
   "source": [
    "rows = selector_table.findAll('tr')[1:]"
   ]
  },
  {
   "cell_type": "code",
   "execution_count": null,
   "metadata": {},
   "outputs": [],
   "source": [
    "# rows"
   ]
  },
  {
   "cell_type": "code",
   "execution_count": null,
   "metadata": {},
   "outputs": [],
   "source": [
    "#Get rows\n",
    "sequences_data = [[td.getText().strip() for td in rows[i].findAll('td')[1:]] for i in range(len(rows))]"
   ]
  },
  {
   "cell_type": "code",
   "execution_count": null,
   "metadata": {},
   "outputs": [],
   "source": [
    "# sequences_data\n",
    "# len(rows)"
   ]
  },
  {
   "cell_type": "code",
   "execution_count": null,
   "metadata": {},
   "outputs": [],
   "source": [
    "sequencesdf = pd.DataFrame(sequences_data, columns=headerlist)"
   ]
  },
  {
   "cell_type": "code",
   "execution_count": null,
   "metadata": {},
   "outputs": [
    {
     "data": {
      "text/html": [
       "<div>\n",
       "<style scoped>\n",
       "    .dataframe tbody tr th:only-of-type {\n",
       "        vertical-align: middle;\n",
       "    }\n",
       "\n",
       "    .dataframe tbody tr th {\n",
       "        vertical-align: top;\n",
       "    }\n",
       "\n",
       "    .dataframe thead th {\n",
       "        text-align: right;\n",
       "    }\n",
       "</style>\n",
       "<table border=\"1\" class=\"dataframe\">\n",
       "  <thead>\n",
       "    <tr style=\"text-align: right;\">\n",
       "      <th></th>\n",
       "      <th>1Run</th>\n",
       "      <th>2BioProject</th>\n",
       "      <th>3BioSample</th>\n",
       "      <th>4Center Name</th>\n",
       "      <th>5DATASTORE filetype</th>\n",
       "      <th>6Experiment</th>\n",
       "      <th>7Isolation_Source</th>\n",
       "      <th>8Library Name</th>\n",
       "      <th>9LibrarySelection</th>\n",
       "      <th>10LibrarySource</th>\n",
       "      <th>...</th>\n",
       "      <th>22Bases</th>\n",
       "      <th>23Bytes</th>\n",
       "      <th>24create_date</th>\n",
       "      <th>25version</th>\n",
       "      <th>26BIOMATERIAL_PROVIDER</th>\n",
       "      <th>27AssemblyName</th>\n",
       "      <th>28type-material</th>\n",
       "      <th>29HOST</th>\n",
       "      <th>30Isolate</th>\n",
       "      <th>31primary_investigator</th>\n",
       "    </tr>\n",
       "  </thead>\n",
       "  <tbody>\n",
       "    <tr>\n",
       "      <th>0</th>\n",
       "      <td>SRR11550236</td>\n",
       "      <td>PRJNA497103</td>\n",
       "      <td>SAMN10247560</td>\n",
       "      <td>UNIVERSITY OF ARKANSAS FOR MEDICAL SCIENCES</td>\n",
       "      <td>bam, run.zq, sra</td>\n",
       "      <td>SRX8120039</td>\n",
       "      <td>Cultivation</td>\n",
       "      <td>EcoliTypeStrain_dcDNA</td>\n",
       "      <td>RANDOM</td>\n",
       "      <td>TRANSCRIPTOMIC</td>\n",
       "      <td>...</td>\n",
       "      <td>176.75 M</td>\n",
       "      <td>143.86 Mb</td>\n",
       "      <td>2020-04-1720:26:00Z</td>\n",
       "      <td>1</td>\n",
       "      <td></td>\n",
       "      <td>assembly</td>\n",
       "      <td>neotype strain of Escherichia coli</td>\n",
       "      <td></td>\n",
       "      <td></td>\n",
       "      <td></td>\n",
       "    </tr>\n",
       "    <tr>\n",
       "      <th>1</th>\n",
       "      <td>SRR11550247</td>\n",
       "      <td>PRJNA497103</td>\n",
       "      <td>SAMN10247560</td>\n",
       "      <td>UNIVERSITY OF ARKANSAS FOR MEDICAL SCIENCES</td>\n",
       "      <td>bam, run.zq, sra</td>\n",
       "      <td>SRX8120028</td>\n",
       "      <td>Cultivation</td>\n",
       "      <td>EcoliTypeStrain_dRNA</td>\n",
       "      <td>RANDOM</td>\n",
       "      <td>TRANSCRIPTOMIC</td>\n",
       "      <td>...</td>\n",
       "      <td>237.95 M</td>\n",
       "      <td>184.93 Mb</td>\n",
       "      <td>2020-04-1720:26:00Z</td>\n",
       "      <td>1</td>\n",
       "      <td></td>\n",
       "      <td>assembly</td>\n",
       "      <td>neotype strain of Escherichia coli</td>\n",
       "      <td></td>\n",
       "      <td></td>\n",
       "      <td></td>\n",
       "    </tr>\n",
       "    <tr>\n",
       "      <th>2</th>\n",
       "      <td>SRR13570801</td>\n",
       "      <td>PRJNA575545</td>\n",
       "      <td>SAMN12900250</td>\n",
       "      <td>CENTRE FOR GENOMIC REGULATION</td>\n",
       "      <td>nanopore, run.zq, sra</td>\n",
       "      <td>SRX9968998</td>\n",
       "      <td>NA</td>\n",
       "      <td>UNM_short</td>\n",
       "      <td>Oligo-dT</td>\n",
       "      <td>SYNTHETIC</td>\n",
       "      <td>...</td>\n",
       "      <td>15.87 M</td>\n",
       "      <td>13.55 Mb</td>\n",
       "      <td>2021-01-2809:22:00Z</td>\n",
       "      <td>1</td>\n",
       "      <td></td>\n",
       "      <td></td>\n",
       "      <td></td>\n",
       "      <td>NA</td>\n",
       "      <td>NA</td>\n",
       "      <td></td>\n",
       "    </tr>\n",
       "    <tr>\n",
       "      <th>3</th>\n",
       "      <td>SRR18061002</td>\n",
       "      <td>PRJNA805453</td>\n",
       "      <td>SAMN25861597</td>\n",
       "      <td>UNIVERSITY OF MARYLAND, BALTIMORE</td>\n",
       "      <td>fastq, sra</td>\n",
       "      <td>SRX14213007</td>\n",
       "      <td>laboratory</td>\n",
       "      <td>RDMIN20210517</td>\n",
       "      <td>PolyA</td>\n",
       "      <td>TRANSCRIPTOMIC</td>\n",
       "      <td>...</td>\n",
       "      <td>394.95 M</td>\n",
       "      <td>357.82 Mb</td>\n",
       "      <td>2022-02-2405:57:00Z</td>\n",
       "      <td>1</td>\n",
       "      <td>Dr. David Rasko</td>\n",
       "      <td></td>\n",
       "      <td></td>\n",
       "      <td></td>\n",
       "      <td></td>\n",
       "      <td></td>\n",
       "    </tr>\n",
       "    <tr>\n",
       "      <th>4</th>\n",
       "      <td>SRR18061003</td>\n",
       "      <td>PRJNA805453</td>\n",
       "      <td>SAMN25861595</td>\n",
       "      <td>UNIVERSITY OF MARYLAND, BALTIMORE</td>\n",
       "      <td>fastq, sra</td>\n",
       "      <td>SRX14213006</td>\n",
       "      <td>laboratory</td>\n",
       "      <td>RDMIN20210507</td>\n",
       "      <td>PolyA</td>\n",
       "      <td>TRANSCRIPTOMIC</td>\n",
       "      <td>...</td>\n",
       "      <td>1.25 G</td>\n",
       "      <td>1.08 Gb</td>\n",
       "      <td>2022-02-2405:48:00Z</td>\n",
       "      <td>1</td>\n",
       "      <td>Dr. David Rasko</td>\n",
       "      <td></td>\n",
       "      <td></td>\n",
       "      <td></td>\n",
       "      <td></td>\n",
       "      <td></td>\n",
       "    </tr>\n",
       "    <tr>\n",
       "      <th>5</th>\n",
       "      <td>SRR18061004</td>\n",
       "      <td>PRJNA805453</td>\n",
       "      <td>SAMN25861596</td>\n",
       "      <td>UNIVERSITY OF MARYLAND, BALTIMORE</td>\n",
       "      <td>fastq, sra</td>\n",
       "      <td>SRX14213005</td>\n",
       "      <td>laboratory</td>\n",
       "      <td>RDMIN20201211</td>\n",
       "      <td>PolyA</td>\n",
       "      <td>TRANSCRIPTOMIC</td>\n",
       "      <td>...</td>\n",
       "      <td>2.02 G</td>\n",
       "      <td>1.76 Gb</td>\n",
       "      <td>2022-02-2405:52:00Z</td>\n",
       "      <td>1</td>\n",
       "      <td>Dr. David Rasko</td>\n",
       "      <td></td>\n",
       "      <td></td>\n",
       "      <td></td>\n",
       "      <td></td>\n",
       "      <td></td>\n",
       "    </tr>\n",
       "    <tr>\n",
       "      <th>6</th>\n",
       "      <td>SRR18061005</td>\n",
       "      <td>PRJNA805453</td>\n",
       "      <td>SAMN25861598</td>\n",
       "      <td>UNIVERSITY OF MARYLAND, BALTIMORE</td>\n",
       "      <td>fastq, sra</td>\n",
       "      <td>SRX14213004</td>\n",
       "      <td>laboratory</td>\n",
       "      <td>RDMIN20200702</td>\n",
       "      <td>PolyA</td>\n",
       "      <td>TRANSCRIPTOMIC</td>\n",
       "      <td>...</td>\n",
       "      <td>2.21 G</td>\n",
       "      <td>1.91 Gb</td>\n",
       "      <td>2022-02-2405:46:00Z</td>\n",
       "      <td>1</td>\n",
       "      <td>Dr. David Rasko</td>\n",
       "      <td></td>\n",
       "      <td></td>\n",
       "      <td></td>\n",
       "      <td></td>\n",
       "      <td></td>\n",
       "    </tr>\n",
       "    <tr>\n",
       "      <th>7</th>\n",
       "      <td>SRR18070402</td>\n",
       "      <td>PRJNA805453</td>\n",
       "      <td>SAMN25861597</td>\n",
       "      <td>UNIVERSITY OF MARYLAND, BALTIMORE</td>\n",
       "      <td>nanopore</td>\n",
       "      <td>SRX14222110</td>\n",
       "      <td>laboratory</td>\n",
       "      <td>RDMIN20210517-fast5</td>\n",
       "      <td>PolyA</td>\n",
       "      <td>TRANSCRIPTOMIC</td>\n",
       "      <td>...</td>\n",
       "      <td></td>\n",
       "      <td></td>\n",
       "      <td></td>\n",
       "      <td></td>\n",
       "      <td>Dr. David Rasko</td>\n",
       "      <td></td>\n",
       "      <td></td>\n",
       "      <td></td>\n",
       "      <td></td>\n",
       "      <td></td>\n",
       "    </tr>\n",
       "    <tr>\n",
       "      <th>8</th>\n",
       "      <td>SRR18070403</td>\n",
       "      <td>PRJNA805453</td>\n",
       "      <td>SAMN25861595</td>\n",
       "      <td>UNIVERSITY OF MARYLAND, BALTIMORE</td>\n",
       "      <td>nanopore</td>\n",
       "      <td>SRX14222109</td>\n",
       "      <td>laboratory</td>\n",
       "      <td>RDMIN20210507-fast5</td>\n",
       "      <td>PolyA</td>\n",
       "      <td>TRANSCRIPTOMIC</td>\n",
       "      <td>...</td>\n",
       "      <td></td>\n",
       "      <td></td>\n",
       "      <td></td>\n",
       "      <td></td>\n",
       "      <td>Dr. David Rasko</td>\n",
       "      <td></td>\n",
       "      <td></td>\n",
       "      <td></td>\n",
       "      <td></td>\n",
       "      <td></td>\n",
       "    </tr>\n",
       "    <tr>\n",
       "      <th>9</th>\n",
       "      <td>SRR18070404</td>\n",
       "      <td>PRJNA805453</td>\n",
       "      <td>SAMN25861596</td>\n",
       "      <td>UNIVERSITY OF MARYLAND, BALTIMORE</td>\n",
       "      <td>nanopore</td>\n",
       "      <td>SRX14222108</td>\n",
       "      <td>laboratory</td>\n",
       "      <td>RDMIN20201211-fast5</td>\n",
       "      <td>PolyA</td>\n",
       "      <td>TRANSCRIPTOMIC</td>\n",
       "      <td>...</td>\n",
       "      <td></td>\n",
       "      <td></td>\n",
       "      <td></td>\n",
       "      <td></td>\n",
       "      <td>Dr. David Rasko</td>\n",
       "      <td></td>\n",
       "      <td></td>\n",
       "      <td></td>\n",
       "      <td></td>\n",
       "      <td></td>\n",
       "    </tr>\n",
       "    <tr>\n",
       "      <th>10</th>\n",
       "      <td>SRR18070405</td>\n",
       "      <td>PRJNA805453</td>\n",
       "      <td>SAMN25861598</td>\n",
       "      <td>UNIVERSITY OF MARYLAND, BALTIMORE</td>\n",
       "      <td>nanopore</td>\n",
       "      <td>SRX14222107</td>\n",
       "      <td>laboratory</td>\n",
       "      <td>RDMIN20200702-fast5</td>\n",
       "      <td>PolyA</td>\n",
       "      <td>TRANSCRIPTOMIC</td>\n",
       "      <td>...</td>\n",
       "      <td></td>\n",
       "      <td></td>\n",
       "      <td></td>\n",
       "      <td></td>\n",
       "      <td>Dr. David Rasko</td>\n",
       "      <td></td>\n",
       "      <td></td>\n",
       "      <td></td>\n",
       "      <td></td>\n",
       "      <td></td>\n",
       "    </tr>\n",
       "    <tr>\n",
       "      <th>11</th>\n",
       "      <td>SRR21654270</td>\n",
       "      <td>PRJNA882509</td>\n",
       "      <td>SAMN30941648</td>\n",
       "      <td>SIR RUN RUN SHAW HOSPITAL, ZHEJIANG UNIVERSITY...</td>\n",
       "      <td>nanopore, sra</td>\n",
       "      <td>SRX17654229</td>\n",
       "      <td>Acinetobacter baumannii</td>\n",
       "      <td>XH1900</td>\n",
       "      <td>RANDOM</td>\n",
       "      <td>TRANSCRIPTOMIC</td>\n",
       "      <td>...</td>\n",
       "      <td>1.69 G</td>\n",
       "      <td>1.46 Gb</td>\n",
       "      <td>2022-09-2100:08:00Z</td>\n",
       "      <td>1</td>\n",
       "      <td></td>\n",
       "      <td></td>\n",
       "      <td></td>\n",
       "      <td></td>\n",
       "      <td></td>\n",
       "      <td></td>\n",
       "    </tr>\n",
       "    <tr>\n",
       "      <th>12</th>\n",
       "      <td>SRR21654271</td>\n",
       "      <td>PRJNA882509</td>\n",
       "      <td>SAMN30941647</td>\n",
       "      <td>SIR RUN RUN SHAW HOSPITAL, ZHEJIANG UNIVERSITY...</td>\n",
       "      <td>nanopore</td>\n",
       "      <td>SRX17654228</td>\n",
       "      <td>Acinetobacter baumannii</td>\n",
       "      <td>XH1989</td>\n",
       "      <td>RANDOM</td>\n",
       "      <td>TRANSCRIPTOMIC</td>\n",
       "      <td>...</td>\n",
       "      <td></td>\n",
       "      <td></td>\n",
       "      <td></td>\n",
       "      <td></td>\n",
       "      <td></td>\n",
       "      <td></td>\n",
       "      <td></td>\n",
       "      <td></td>\n",
       "      <td></td>\n",
       "      <td></td>\n",
       "    </tr>\n",
       "    <tr>\n",
       "      <th>13</th>\n",
       "      <td>SRR21654272</td>\n",
       "      <td>PRJNA882509</td>\n",
       "      <td>SAMN30941646</td>\n",
       "      <td>SIR RUN RUN SHAW HOSPITAL, ZHEJIANG UNIVERSITY...</td>\n",
       "      <td>nanopore, sra</td>\n",
       "      <td>SRX17654227</td>\n",
       "      <td>Acinetobacter baumannii</td>\n",
       "      <td>XH1529</td>\n",
       "      <td>RANDOM</td>\n",
       "      <td>TRANSCRIPTOMIC</td>\n",
       "      <td>...</td>\n",
       "      <td>554.45 M</td>\n",
       "      <td>500.70 Mb</td>\n",
       "      <td>2022-09-2023:06:00Z</td>\n",
       "      <td>1</td>\n",
       "      <td></td>\n",
       "      <td></td>\n",
       "      <td></td>\n",
       "      <td></td>\n",
       "      <td></td>\n",
       "      <td></td>\n",
       "    </tr>\n",
       "    <tr>\n",
       "      <th>14</th>\n",
       "      <td>SRR23886068</td>\n",
       "      <td>PRJNA944578</td>\n",
       "      <td>SAMN33758049</td>\n",
       "      <td>UNIVERSITY OF MARYLAND, BALTIMORE</td>\n",
       "      <td>nanopore, sra</td>\n",
       "      <td>SRX19697903</td>\n",
       "      <td>grown in LB broth and harvested at OD600 of 0.50</td>\n",
       "      <td>RDMIN20220727</td>\n",
       "      <td>PolyA</td>\n",
       "      <td>TRANSCRIPTOMIC</td>\n",
       "      <td>...</td>\n",
       "      <td>301.33 M</td>\n",
       "      <td>274.21 Mb</td>\n",
       "      <td>2023-03-1718:38:00Z</td>\n",
       "      <td>1</td>\n",
       "      <td>Dr. David Rasko, PhD</td>\n",
       "      <td></td>\n",
       "      <td></td>\n",
       "      <td></td>\n",
       "      <td></td>\n",
       "      <td>Dr. Julie Dunning Hotopp, PhD</td>\n",
       "    </tr>\n",
       "  </tbody>\n",
       "</table>\n",
       "<p>15 rows × 31 columns</p>\n",
       "</div>"
      ],
      "text/plain": [
       "           1Run  2BioProject    3BioSample  \\\n",
       "0   SRR11550236  PRJNA497103  SAMN10247560   \n",
       "1   SRR11550247  PRJNA497103  SAMN10247560   \n",
       "2   SRR13570801  PRJNA575545  SAMN12900250   \n",
       "3   SRR18061002  PRJNA805453  SAMN25861597   \n",
       "4   SRR18061003  PRJNA805453  SAMN25861595   \n",
       "5   SRR18061004  PRJNA805453  SAMN25861596   \n",
       "6   SRR18061005  PRJNA805453  SAMN25861598   \n",
       "7   SRR18070402  PRJNA805453  SAMN25861597   \n",
       "8   SRR18070403  PRJNA805453  SAMN25861595   \n",
       "9   SRR18070404  PRJNA805453  SAMN25861596   \n",
       "10  SRR18070405  PRJNA805453  SAMN25861598   \n",
       "11  SRR21654270  PRJNA882509  SAMN30941648   \n",
       "12  SRR21654271  PRJNA882509  SAMN30941647   \n",
       "13  SRR21654272  PRJNA882509  SAMN30941646   \n",
       "14  SRR23886068  PRJNA944578  SAMN33758049   \n",
       "\n",
       "                                         4Center Name    5DATASTORE filetype  \\\n",
       "0         UNIVERSITY OF ARKANSAS FOR MEDICAL SCIENCES       bam, run.zq, sra   \n",
       "1         UNIVERSITY OF ARKANSAS FOR MEDICAL SCIENCES       bam, run.zq, sra   \n",
       "2                       CENTRE FOR GENOMIC REGULATION  nanopore, run.zq, sra   \n",
       "3                   UNIVERSITY OF MARYLAND, BALTIMORE             fastq, sra   \n",
       "4                   UNIVERSITY OF MARYLAND, BALTIMORE             fastq, sra   \n",
       "5                   UNIVERSITY OF MARYLAND, BALTIMORE             fastq, sra   \n",
       "6                   UNIVERSITY OF MARYLAND, BALTIMORE             fastq, sra   \n",
       "7                   UNIVERSITY OF MARYLAND, BALTIMORE               nanopore   \n",
       "8                   UNIVERSITY OF MARYLAND, BALTIMORE               nanopore   \n",
       "9                   UNIVERSITY OF MARYLAND, BALTIMORE               nanopore   \n",
       "10                  UNIVERSITY OF MARYLAND, BALTIMORE               nanopore   \n",
       "11  SIR RUN RUN SHAW HOSPITAL, ZHEJIANG UNIVERSITY...          nanopore, sra   \n",
       "12  SIR RUN RUN SHAW HOSPITAL, ZHEJIANG UNIVERSITY...               nanopore   \n",
       "13  SIR RUN RUN SHAW HOSPITAL, ZHEJIANG UNIVERSITY...          nanopore, sra   \n",
       "14                  UNIVERSITY OF MARYLAND, BALTIMORE          nanopore, sra   \n",
       "\n",
       "    6Experiment                                 7Isolation_Source  \\\n",
       "0    SRX8120039                                       Cultivation   \n",
       "1    SRX8120028                                       Cultivation   \n",
       "2    SRX9968998                                                NA   \n",
       "3   SRX14213007                                        laboratory   \n",
       "4   SRX14213006                                        laboratory   \n",
       "5   SRX14213005                                        laboratory   \n",
       "6   SRX14213004                                        laboratory   \n",
       "7   SRX14222110                                        laboratory   \n",
       "8   SRX14222109                                        laboratory   \n",
       "9   SRX14222108                                        laboratory   \n",
       "10  SRX14222107                                        laboratory   \n",
       "11  SRX17654229                           Acinetobacter baumannii   \n",
       "12  SRX17654228                           Acinetobacter baumannii   \n",
       "13  SRX17654227                           Acinetobacter baumannii   \n",
       "14  SRX19697903  grown in LB broth and harvested at OD600 of 0.50   \n",
       "\n",
       "            8Library Name 9LibrarySelection 10LibrarySource  ...   22Bases  \\\n",
       "0   EcoliTypeStrain_dcDNA            RANDOM  TRANSCRIPTOMIC  ...  176.75 M   \n",
       "1    EcoliTypeStrain_dRNA            RANDOM  TRANSCRIPTOMIC  ...  237.95 M   \n",
       "2               UNM_short          Oligo-dT       SYNTHETIC  ...   15.87 M   \n",
       "3           RDMIN20210517             PolyA  TRANSCRIPTOMIC  ...  394.95 M   \n",
       "4           RDMIN20210507             PolyA  TRANSCRIPTOMIC  ...    1.25 G   \n",
       "5           RDMIN20201211             PolyA  TRANSCRIPTOMIC  ...    2.02 G   \n",
       "6           RDMIN20200702             PolyA  TRANSCRIPTOMIC  ...    2.21 G   \n",
       "7     RDMIN20210517-fast5             PolyA  TRANSCRIPTOMIC  ...             \n",
       "8     RDMIN20210507-fast5             PolyA  TRANSCRIPTOMIC  ...             \n",
       "9     RDMIN20201211-fast5             PolyA  TRANSCRIPTOMIC  ...             \n",
       "10    RDMIN20200702-fast5             PolyA  TRANSCRIPTOMIC  ...             \n",
       "11                 XH1900            RANDOM  TRANSCRIPTOMIC  ...    1.69 G   \n",
       "12                 XH1989            RANDOM  TRANSCRIPTOMIC  ...             \n",
       "13                 XH1529            RANDOM  TRANSCRIPTOMIC  ...  554.45 M   \n",
       "14          RDMIN20220727             PolyA  TRANSCRIPTOMIC  ...  301.33 M   \n",
       "\n",
       "      23Bytes        24create_date 25version 26BIOMATERIAL_PROVIDER  \\\n",
       "0   143.86 Mb  2020-04-1720:26:00Z         1                          \n",
       "1   184.93 Mb  2020-04-1720:26:00Z         1                          \n",
       "2    13.55 Mb  2021-01-2809:22:00Z         1                          \n",
       "3   357.82 Mb  2022-02-2405:57:00Z         1        Dr. David Rasko   \n",
       "4     1.08 Gb  2022-02-2405:48:00Z         1        Dr. David Rasko   \n",
       "5     1.76 Gb  2022-02-2405:52:00Z         1        Dr. David Rasko   \n",
       "6     1.91 Gb  2022-02-2405:46:00Z         1        Dr. David Rasko   \n",
       "7                                                   Dr. David Rasko   \n",
       "8                                                   Dr. David Rasko   \n",
       "9                                                   Dr. David Rasko   \n",
       "10                                                  Dr. David Rasko   \n",
       "11    1.46 Gb  2022-09-2100:08:00Z         1                          \n",
       "12                                                                    \n",
       "13  500.70 Mb  2022-09-2023:06:00Z         1                          \n",
       "14  274.21 Mb  2023-03-1718:38:00Z         1   Dr. David Rasko, PhD   \n",
       "\n",
       "   27AssemblyName                     28type-material 29HOST 30Isolate  \\\n",
       "0        assembly  neotype strain of Escherichia coli                    \n",
       "1        assembly  neotype strain of Escherichia coli                    \n",
       "2                                                         NA        NA   \n",
       "3                                                                        \n",
       "4                                                                        \n",
       "5                                                                        \n",
       "6                                                                        \n",
       "7                                                                        \n",
       "8                                                                        \n",
       "9                                                                        \n",
       "10                                                                       \n",
       "11                                                                       \n",
       "12                                                                       \n",
       "13                                                                       \n",
       "14                                                                       \n",
       "\n",
       "           31primary_investigator  \n",
       "0                                  \n",
       "1                                  \n",
       "2                                  \n",
       "3                                  \n",
       "4                                  \n",
       "5                                  \n",
       "6                                  \n",
       "7                                  \n",
       "8                                  \n",
       "9                                  \n",
       "10                                 \n",
       "11                                 \n",
       "12                                 \n",
       "13                                 \n",
       "14  Dr. Julie Dunning Hotopp, PhD  \n",
       "\n",
       "[15 rows x 31 columns]"
      ]
     },
     "execution_count": 412,
     "metadata": {},
     "output_type": "execute_result"
    }
   ],
   "source": [
    "# sequencesdf"
   ]
  },
  {
   "cell_type": "code",
   "execution_count": null,
   "metadata": {},
   "outputs": [
    {
     "name": "stdout",
     "output_type": "stream",
     "text": [
      "['SRR11550236', 'SRR11550247', 'SRR13570801', 'SRR18061002', 'SRR18061003', 'SRR18061004', 'SRR18061005', 'SRR18070402', 'SRR18070403', 'SRR18070404', 'SRR18070405', 'SRR21654270', 'SRR21654271', 'SRR21654272', 'SRR23886068']\n"
     ]
    }
   ],
   "source": [
    "#Pull all run IDs\n",
    "runid = sequencesdf['1Run'].to_list()\n",
    "print(runid)"
   ]
  },
  {
   "cell_type": "code",
   "execution_count": null,
   "metadata": {},
   "outputs": [
    {
     "data": {
      "text/plain": [
       "pandas.core.frame.DataFrame"
      ]
     },
     "execution_count": 617,
     "metadata": {},
     "output_type": "execute_result"
    }
   ],
   "source": [
    "type(sequencesdf)"
   ]
  },
  {
   "cell_type": "code",
   "execution_count": null,
   "metadata": {},
   "outputs": [
    {
     "name": "stdout",
     "output_type": "stream",
     "text": [
      "           1Run  2BioProject    3BioSample  \\\n",
      "7   SRR18070402  PRJNA805453  SAMN25861597   \n",
      "8   SRR18070403  PRJNA805453  SAMN25861595   \n",
      "9   SRR18070404  PRJNA805453  SAMN25861596   \n",
      "10  SRR18070405  PRJNA805453  SAMN25861598   \n",
      "12  SRR21654271  PRJNA882509  SAMN30941647   \n",
      "\n",
      "                                         4Center Name 5DATASTORE filetype  \\\n",
      "7                   UNIVERSITY OF MARYLAND, BALTIMORE            nanopore   \n",
      "8                   UNIVERSITY OF MARYLAND, BALTIMORE            nanopore   \n",
      "9                   UNIVERSITY OF MARYLAND, BALTIMORE            nanopore   \n",
      "10                  UNIVERSITY OF MARYLAND, BALTIMORE            nanopore   \n",
      "12  SIR RUN RUN SHAW HOSPITAL, ZHEJIANG UNIVERSITY...            nanopore   \n",
      "\n",
      "    6Experiment        7Isolation_Source        8Library Name  \\\n",
      "7   SRX14222110               laboratory  RDMIN20210517-fast5   \n",
      "8   SRX14222109               laboratory  RDMIN20210507-fast5   \n",
      "9   SRX14222108               laboratory  RDMIN20201211-fast5   \n",
      "10  SRX14222107               laboratory  RDMIN20200702-fast5   \n",
      "12  SRX17654228  Acinetobacter baumannii               XH1989   \n",
      "\n",
      "   9LibrarySelection 10LibrarySource  ... 22Bases 23Bytes 24create_date  \\\n",
      "7              PolyA  TRANSCRIPTOMIC  ...                                 \n",
      "8              PolyA  TRANSCRIPTOMIC  ...                                 \n",
      "9              PolyA  TRANSCRIPTOMIC  ...                                 \n",
      "10             PolyA  TRANSCRIPTOMIC  ...                                 \n",
      "12            RANDOM  TRANSCRIPTOMIC  ...                                 \n",
      "\n",
      "   25version 26BIOMATERIAL_PROVIDER 27AssemblyName 28type-material 29HOST  \\\n",
      "7                   Dr. David Rasko                                         \n",
      "8                   Dr. David Rasko                                         \n",
      "9                   Dr. David Rasko                                         \n",
      "10                  Dr. David Rasko                                         \n",
      "12                                                                          \n",
      "\n",
      "   30Isolate 31primary_investigator  \n",
      "7                                    \n",
      "8                                    \n",
      "9                                    \n",
      "10                                   \n",
      "12                                   \n",
      "\n",
      "[5 rows x 31 columns]\n"
     ]
    },
    {
     "data": {
      "text/html": [
       "<div>\n",
       "<style scoped>\n",
       "    .dataframe tbody tr th:only-of-type {\n",
       "        vertical-align: middle;\n",
       "    }\n",
       "\n",
       "    .dataframe tbody tr th {\n",
       "        vertical-align: top;\n",
       "    }\n",
       "\n",
       "    .dataframe thead th {\n",
       "        text-align: right;\n",
       "    }\n",
       "</style>\n",
       "<table border=\"1\" class=\"dataframe\">\n",
       "  <thead>\n",
       "    <tr style=\"text-align: right;\">\n",
       "      <th></th>\n",
       "      <th>1Run</th>\n",
       "    </tr>\n",
       "  </thead>\n",
       "  <tbody>\n",
       "    <tr>\n",
       "      <th>7</th>\n",
       "      <td>SRR18070402</td>\n",
       "    </tr>\n",
       "    <tr>\n",
       "      <th>8</th>\n",
       "      <td>SRR18070403</td>\n",
       "    </tr>\n",
       "    <tr>\n",
       "      <th>9</th>\n",
       "      <td>SRR18070404</td>\n",
       "    </tr>\n",
       "    <tr>\n",
       "      <th>10</th>\n",
       "      <td>SRR18070405</td>\n",
       "    </tr>\n",
       "    <tr>\n",
       "      <th>12</th>\n",
       "      <td>SRR21654271</td>\n",
       "    </tr>\n",
       "  </tbody>\n",
       "</table>\n",
       "</div>"
      ],
      "text/plain": [
       "           1Run\n",
       "7   SRR18070402\n",
       "8   SRR18070403\n",
       "9   SRR18070404\n",
       "10  SRR18070405\n",
       "12  SRR21654271"
      ]
     },
     "execution_count": 589,
     "metadata": {},
     "output_type": "execute_result"
    }
   ],
   "source": [
    "#Pull only run experiments with fast5 files\n",
    "fast5_df = sequencesdf.loc[sequencesdf['5DATASTORE filetype']=='nanopore']\n",
    "print(fast5_df)\n"
   ]
  },
  {
   "cell_type": "code",
   "execution_count": null,
   "metadata": {},
   "outputs": [
    {
     "name": "stdout",
     "output_type": "stream",
     "text": [
      "['SRR18070402', 'SRR18070403', 'SRR18070404', 'SRR18070405', 'SRR21654271']\n"
     ]
    }
   ],
   "source": [
    "df5 = fast5_df['1Run'].to_list()\n",
    "print(df5)"
   ]
  },
  {
   "cell_type": "code",
   "execution_count": null,
   "metadata": {},
   "outputs": [],
   "source": [
    "#Fast5 accession number\n",
    "file = open(\"an_f5.txt\", \"w\")\n",
    "for an in df5:\n",
    "    file.write(an + \"\\n\")\n",
    "file.close()"
   ]
  },
  {
   "cell_type": "code",
   "execution_count": null,
   "metadata": {},
   "outputs": [],
   "source": [
    "#Gather all links to data-access\n",
    "links =[]\n",
    "for run in runid:\n",
    "    sra_data_access = f'https://trace.ncbi.nlm.nih.gov/Traces/?view=run_browser&acc={run}&display=data-access'\n",
    "    separate = re.findall(r'(https?://\\S+)', sra_data_access)\n",
    "    links.append(separate)"
   ]
  },
  {
   "cell_type": "code",
   "execution_count": null,
   "metadata": {},
   "outputs": [
    {
     "name": "stdout",
     "output_type": "stream",
     "text": [
      "[['https://trace.ncbi.nlm.nih.gov/Traces/?view=run_browser&acc=SRR11550236&display=data-access'], ['https://trace.ncbi.nlm.nih.gov/Traces/?view=run_browser&acc=SRR11550247&display=data-access'], ['https://trace.ncbi.nlm.nih.gov/Traces/?view=run_browser&acc=SRR13570801&display=data-access'], ['https://trace.ncbi.nlm.nih.gov/Traces/?view=run_browser&acc=SRR18061002&display=data-access'], ['https://trace.ncbi.nlm.nih.gov/Traces/?view=run_browser&acc=SRR18061003&display=data-access'], ['https://trace.ncbi.nlm.nih.gov/Traces/?view=run_browser&acc=SRR18061004&display=data-access'], ['https://trace.ncbi.nlm.nih.gov/Traces/?view=run_browser&acc=SRR18061005&display=data-access'], ['https://trace.ncbi.nlm.nih.gov/Traces/?view=run_browser&acc=SRR18070402&display=data-access'], ['https://trace.ncbi.nlm.nih.gov/Traces/?view=run_browser&acc=SRR18070403&display=data-access'], ['https://trace.ncbi.nlm.nih.gov/Traces/?view=run_browser&acc=SRR18070404&display=data-access'], ['https://trace.ncbi.nlm.nih.gov/Traces/?view=run_browser&acc=SRR18070405&display=data-access'], ['https://trace.ncbi.nlm.nih.gov/Traces/?view=run_browser&acc=SRR21654270&display=data-access'], ['https://trace.ncbi.nlm.nih.gov/Traces/?view=run_browser&acc=SRR21654271&display=data-access'], ['https://trace.ncbi.nlm.nih.gov/Traces/?view=run_browser&acc=SRR21654272&display=data-access'], ['https://trace.ncbi.nlm.nih.gov/Traces/?view=run_browser&acc=SRR23886068&display=data-access']]\n"
     ]
    }
   ],
   "source": [
    "print(links)"
   ]
  },
  {
   "cell_type": "code",
   "execution_count": null,
   "metadata": {},
   "outputs": [],
   "source": [
    "#Get only fast5 files\n",
    "fast5 = []\n",
    "for run in df5:\n",
    "    sra_data_access = f'https://trace.ncbi.nlm.nih.gov/Traces/?view=run_browser&acc={run}&display=data-access'\n",
    "    separate = re.findall(r'(https?://\\S+)', sra_data_access)\n",
    "    datalink = fast5.append(separate)\n",
    "\n",
    "    "
   ]
  },
  {
   "cell_type": "code",
   "execution_count": null,
   "metadata": {},
   "outputs": [
    {
     "name": "stdout",
     "output_type": "stream",
     "text": [
      "                                                   0\n",
      "0  https://trace.ncbi.nlm.nih.gov/Traces/?view=ru...\n",
      "1  https://trace.ncbi.nlm.nih.gov/Traces/?view=ru...\n",
      "2  https://trace.ncbi.nlm.nih.gov/Traces/?view=ru...\n",
      "3  https://trace.ncbi.nlm.nih.gov/Traces/?view=ru...\n",
      "4  https://trace.ncbi.nlm.nih.gov/Traces/?view=ru...\n"
     ]
    }
   ],
   "source": [
    "# my_list = (iter(fast5))\n",
    "df1 = pd.DataFrame(fast5)\n",
    "# print(df1)\n",
    "#List of links\n",
    "# fast5[0]\n",
    "# fast5[1]\n",
    "\n",
    "# fast5[3]\n",
    "# fast5[4]\n",
    "# my_list = next(iter(fast5))\n",
    "# print(my_list)\n",
    "# df1.columns = range(df.shape[1])\n",
    "print(df1)\n",
    "df1.to_csv('/Users/irazemagarcia/MS_Bioinformatics/Advanced Data Management/Final project/Final_script/data/fast5url.csv',header=None,index=False)\n"
   ]
  },
  {
   "cell_type": "code",
   "execution_count": null,
   "metadata": {},
   "outputs": [
    {
     "name": "stdout",
     "output_type": "stream",
     "text": [
      "<bound method NDFrame.head of                                                  Col\n",
      "0  https://trace.ncbi.nlm.nih.gov/Traces/?view=ru...\n",
      "1  https://trace.ncbi.nlm.nih.gov/Traces/?view=ru...\n",
      "2  https://trace.ncbi.nlm.nih.gov/Traces/?view=ru...\n",
      "3  https://trace.ncbi.nlm.nih.gov/Traces/?view=ru...>\n"
     ]
    }
   ],
   "source": [
    "import bs4 as bs\n",
    "\n",
    "\n",
    "\n",
    "df_link = pd.read_csv('/Users/irazemagarcia/MS_Bioinformatics/Advanced Data Management/Final project/Final_script/data/fast5url.csv') \n",
    "# df_link.columns = ['Col']\n",
    "print(df_links.head)\n",
    "\n",
    "# for link in df_link.iterrows():\n",
    "#     url = link[1]['Col']\n",
    "#     x = urllib2.urlopen(url)\n",
    "#     new = x.read()\n",
    "#     # Code does not even get past here as far as I checked\n",
    "#     soup = bs.BeautifulSoup(new,\"lxml\")\n",
    "#     for text in soup.find_all('a',href = True):\n",
    "#         text.append((text.get('href')))"
   ]
  },
  {
   "cell_type": "code",
   "execution_count": null,
   "metadata": {},
   "outputs": [
    {
     "data": {
      "text/html": [
       "<div>\n",
       "<style scoped>\n",
       "    .dataframe tbody tr th:only-of-type {\n",
       "        vertical-align: middle;\n",
       "    }\n",
       "\n",
       "    .dataframe tbody tr th {\n",
       "        vertical-align: top;\n",
       "    }\n",
       "\n",
       "    .dataframe thead th {\n",
       "        text-align: right;\n",
       "    }\n",
       "</style>\n",
       "<table border=\"1\" class=\"dataframe\">\n",
       "  <thead>\n",
       "    <tr style=\"text-align: right;\">\n",
       "      <th></th>\n",
       "      <th>Data_access_links</th>\n",
       "    </tr>\n",
       "  </thead>\n",
       "  <tbody>\n",
       "    <tr>\n",
       "      <th>0</th>\n",
       "      <td>https://trace.ncbi.nlm.nih.gov/Traces/?view=ru...</td>\n",
       "    </tr>\n",
       "    <tr>\n",
       "      <th>1</th>\n",
       "      <td>https://trace.ncbi.nlm.nih.gov/Traces/?view=ru...</td>\n",
       "    </tr>\n",
       "    <tr>\n",
       "      <th>2</th>\n",
       "      <td>https://trace.ncbi.nlm.nih.gov/Traces/?view=ru...</td>\n",
       "    </tr>\n",
       "    <tr>\n",
       "      <th>3</th>\n",
       "      <td>https://trace.ncbi.nlm.nih.gov/Traces/?view=ru...</td>\n",
       "    </tr>\n",
       "    <tr>\n",
       "      <th>4</th>\n",
       "      <td>https://trace.ncbi.nlm.nih.gov/Traces/?view=ru...</td>\n",
       "    </tr>\n",
       "    <tr>\n",
       "      <th>5</th>\n",
       "      <td>https://trace.ncbi.nlm.nih.gov/Traces/?view=ru...</td>\n",
       "    </tr>\n",
       "    <tr>\n",
       "      <th>6</th>\n",
       "      <td>https://trace.ncbi.nlm.nih.gov/Traces/?view=ru...</td>\n",
       "    </tr>\n",
       "    <tr>\n",
       "      <th>7</th>\n",
       "      <td>https://trace.ncbi.nlm.nih.gov/Traces/?view=ru...</td>\n",
       "    </tr>\n",
       "    <tr>\n",
       "      <th>8</th>\n",
       "      <td>https://trace.ncbi.nlm.nih.gov/Traces/?view=ru...</td>\n",
       "    </tr>\n",
       "    <tr>\n",
       "      <th>9</th>\n",
       "      <td>https://trace.ncbi.nlm.nih.gov/Traces/?view=ru...</td>\n",
       "    </tr>\n",
       "    <tr>\n",
       "      <th>10</th>\n",
       "      <td>https://trace.ncbi.nlm.nih.gov/Traces/?view=ru...</td>\n",
       "    </tr>\n",
       "    <tr>\n",
       "      <th>11</th>\n",
       "      <td>https://trace.ncbi.nlm.nih.gov/Traces/?view=ru...</td>\n",
       "    </tr>\n",
       "    <tr>\n",
       "      <th>12</th>\n",
       "      <td>https://trace.ncbi.nlm.nih.gov/Traces/?view=ru...</td>\n",
       "    </tr>\n",
       "    <tr>\n",
       "      <th>13</th>\n",
       "      <td>https://trace.ncbi.nlm.nih.gov/Traces/?view=ru...</td>\n",
       "    </tr>\n",
       "    <tr>\n",
       "      <th>14</th>\n",
       "      <td>https://trace.ncbi.nlm.nih.gov/Traces/?view=ru...</td>\n",
       "    </tr>\n",
       "  </tbody>\n",
       "</table>\n",
       "</div>"
      ],
      "text/plain": [
       "                                    Data_access_links\n",
       "0   https://trace.ncbi.nlm.nih.gov/Traces/?view=ru...\n",
       "1   https://trace.ncbi.nlm.nih.gov/Traces/?view=ru...\n",
       "2   https://trace.ncbi.nlm.nih.gov/Traces/?view=ru...\n",
       "3   https://trace.ncbi.nlm.nih.gov/Traces/?view=ru...\n",
       "4   https://trace.ncbi.nlm.nih.gov/Traces/?view=ru...\n",
       "5   https://trace.ncbi.nlm.nih.gov/Traces/?view=ru...\n",
       "6   https://trace.ncbi.nlm.nih.gov/Traces/?view=ru...\n",
       "7   https://trace.ncbi.nlm.nih.gov/Traces/?view=ru...\n",
       "8   https://trace.ncbi.nlm.nih.gov/Traces/?view=ru...\n",
       "9   https://trace.ncbi.nlm.nih.gov/Traces/?view=ru...\n",
       "10  https://trace.ncbi.nlm.nih.gov/Traces/?view=ru...\n",
       "11  https://trace.ncbi.nlm.nih.gov/Traces/?view=ru...\n",
       "12  https://trace.ncbi.nlm.nih.gov/Traces/?view=ru...\n",
       "13  https://trace.ncbi.nlm.nih.gov/Traces/?view=ru...\n",
       "14  https://trace.ncbi.nlm.nih.gov/Traces/?view=ru..."
      ]
     },
     "execution_count": 685,
     "metadata": {},
     "output_type": "execute_result"
    }
   ],
   "source": [
    "#Df of list of links\n",
    "links_df = pd.DataFrame(links, columns=['Data_access_links'], dtype= str)\n",
    "links_df"
   ]
  },
  {
   "cell_type": "code",
   "execution_count": null,
   "metadata": {},
   "outputs": [
    {
     "ename": "TypeError",
     "evalue": "can only concatenate list (not \"str\") to list",
     "output_type": "error",
     "traceback": [
      "\u001b[0;31m---------------------------------------------------------------------------\u001b[0m",
      "\u001b[0;31mTypeError\u001b[0m                                 Traceback (most recent call last)",
      "\u001b[0;32m<ipython-input-585-b976f75a1996>\u001b[0m in \u001b[0;36m<module>\u001b[0;34m\u001b[0m\n\u001b[1;32m      2\u001b[0m \u001b[0mtextfile_da\u001b[0m \u001b[0;34m=\u001b[0m \u001b[0mopen\u001b[0m\u001b[0;34m(\u001b[0m\u001b[0;34m\"data_access.txt\"\u001b[0m\u001b[0;34m,\u001b[0m \u001b[0;34m\"w\"\u001b[0m\u001b[0;34m)\u001b[0m\u001b[0;34m\u001b[0m\u001b[0;34m\u001b[0m\u001b[0m\n\u001b[1;32m      3\u001b[0m \u001b[0;32mfor\u001b[0m \u001b[0mlink\u001b[0m \u001b[0;32min\u001b[0m \u001b[0mlinks\u001b[0m\u001b[0;34m:\u001b[0m\u001b[0;34m\u001b[0m\u001b[0;34m\u001b[0m\u001b[0m\n\u001b[0;32m----> 4\u001b[0;31m     \u001b[0mtextfile_da\u001b[0m\u001b[0;34m.\u001b[0m\u001b[0mwrite\u001b[0m\u001b[0;34m(\u001b[0m\u001b[0mlink\u001b[0m \u001b[0;34m+\u001b[0m \u001b[0;34m\"\\n\"\u001b[0m\u001b[0;34m)\u001b[0m\u001b[0;34m\u001b[0m\u001b[0;34m\u001b[0m\u001b[0m\n\u001b[0m\u001b[1;32m      5\u001b[0m \u001b[0mtextfile_da\u001b[0m\u001b[0;34m.\u001b[0m\u001b[0mclose\u001b[0m\u001b[0;34m(\u001b[0m\u001b[0;34m)\u001b[0m\u001b[0;34m\u001b[0m\u001b[0;34m\u001b[0m\u001b[0m\n",
      "\u001b[0;31mTypeError\u001b[0m: can only concatenate list (not \"str\") to list"
     ]
    }
   ],
   "source": [
    "#Text file for bash command\n",
    "textfile_da = open(\"data_access.txt\", \"w\")\n",
    "for link in links:\n",
    "    textfile_da.write(link + \"\\n\")\n",
    "textfile_da.close()"
   ]
  },
  {
   "cell_type": "code",
   "execution_count": null,
   "metadata": {},
   "outputs": [
    {
     "ename": "TypeError",
     "evalue": "sequence item 0: expected str instance, list found",
     "output_type": "error",
     "traceback": [
      "\u001b[0;31m---------------------------------------------------------------------------\u001b[0m",
      "\u001b[0;31mTypeError\u001b[0m                                 Traceback (most recent call last)",
      "\u001b[0;32m<ipython-input-586-47df282999c2>\u001b[0m in \u001b[0;36m<module>\u001b[0;34m\u001b[0m\n\u001b[1;32m      1\u001b[0m \u001b[0;32mwith\u001b[0m \u001b[0mopen\u001b[0m\u001b[0;34m(\u001b[0m\u001b[0;34m'links.txt'\u001b[0m\u001b[0;34m,\u001b[0m\u001b[0;34m'w'\u001b[0m\u001b[0;34m)\u001b[0m \u001b[0;32mas\u001b[0m \u001b[0mtfile\u001b[0m\u001b[0;34m:\u001b[0m\u001b[0;34m\u001b[0m\u001b[0;34m\u001b[0m\u001b[0m\n\u001b[0;32m----> 2\u001b[0;31m     \u001b[0mtfile\u001b[0m\u001b[0;34m.\u001b[0m\u001b[0mwrite\u001b[0m\u001b[0;34m(\u001b[0m\u001b[0;34m'\\n'\u001b[0m\u001b[0;34m.\u001b[0m\u001b[0mjoin\u001b[0m\u001b[0;34m(\u001b[0m\u001b[0mlinks\u001b[0m\u001b[0;34m)\u001b[0m\u001b[0;34m)\u001b[0m\u001b[0;34m\u001b[0m\u001b[0;34m\u001b[0m\u001b[0m\n\u001b[0m",
      "\u001b[0;31mTypeError\u001b[0m: sequence item 0: expected str instance, list found"
     ]
    }
   ],
   "source": [
    "with open('links.txt','w') as tfile:\n",
    "    tfile.write('\\n'.join(links))"
   ]
  },
  {
   "cell_type": "code",
   "execution_count": null,
   "metadata": {},
   "outputs": [],
   "source": [
    "#!/bin/bash\n",
    "\n"
   ]
  },
  {
   "cell_type": "code",
   "execution_count": null,
   "metadata": {},
   "outputs": [],
   "source": [
    "def data_acc():\n",
    "    for run in runid:\n",
    "        sra_data_access = f'https://trace.ncbi.nlm.nih.gov/Traces/?view=run_browser&acc={run}&display=data-access'\n",
    "        links = re.findall(r'(https?://\\S+)', sra_data_access)\n",
    "    # print(sra_data_access)\n",
    "        return str(links)\n",
    "        print(links)\n",
    "    \n",
    "# da_links = []\n",
    "# for i in range(0,len(links)):\n",
    "#     da_links.append(links)\n",
    "#     print(da_links)\n",
    "\n",
    "\n"
   ]
  },
  {
   "cell_type": "code",
   "execution_count": null,
   "metadata": {},
   "outputs": [
    {
     "data": {
      "text/plain": [
       "'<function data_acc at 0x7fe028ee6940>'"
      ]
     },
     "execution_count": 562,
     "metadata": {},
     "output_type": "execute_result"
    }
   ],
   "source": [
    "str(data_acc)"
   ]
  },
  {
   "cell_type": "code",
   "execution_count": null,
   "metadata": {},
   "outputs": [
    {
     "name": "stdout",
     "output_type": "stream",
     "text": [
      "['https://trace.ncbi.nlm.nih.gov/Traces/?view=run_browser&acc=SRR23886068&display=data-access']\n"
     ]
    }
   ],
   "source": [
    "# re.search(\"(?P<url>https?://[^\\s]+)\", sra_data_access).group(\"url\")\n",
    "\n",
    "print(re.findall(r'(https?://\\S+)', sra_data_access))\n",
    "\n",
    "# for line in sra_data_access:\n",
    "#     line = line.strip()\n",
    "#     # items = line.split()\n",
    "#     print(line)\n",
    "#     # print(items)\n",
    "#     word = line[1]\n"
   ]
  },
  {
   "cell_type": "code",
   "execution_count": null,
   "metadata": {},
   "outputs": [],
   "source": [
    "# link_regex = re.compile(\"((https?):((//)|(\\\\\\\\))+([\\w\\d:#@%/;$()~_?\\+-=\\\\\\.&](#!)?)*)\", re.DOTALL)\n"
   ]
  },
  {
   "cell_type": "code",
   "execution_count": null,
   "metadata": {},
   "outputs": [
    {
     "name": "stdout",
     "output_type": "stream",
     "text": [
      "('https://trace.ncbi.nlm.nih.gov/Traces/?view=run_browser&acc=SRR23886068&display=data-access', 'https', '//', '//', '', 's', '')\n"
     ]
    }
   ],
   "source": [
    "# #List\n",
    "# links1 = re.findall(link_regex, sra_data_access)\n",
    "# print(links1[0])\n",
    "# # links"
   ]
  },
  {
   "cell_type": "code",
   "execution_count": null,
   "metadata": {},
   "outputs": [
    {
     "name": "stdout",
     "output_type": "stream",
     "text": [
      "['https://trace.ncbi.nlm.nih.gov/Traces/?view=run_browser&acc=SRR23886068&display=data-access']\n"
     ]
    }
   ],
   "source": [
    "# #Conver string to list\n",
    "def Convert(string):\n",
    "    links = list(string.split(\" \"))\n",
    "    return links\n",
    "\n",
    "# # Code\n",
    "print(Convert(sra_data_access))\n",
    "# seq_list = list(sra_data_access.strip(\"*\"))\n",
    "# print(seq_list)"
   ]
  },
  {
   "cell_type": "code",
   "execution_count": null,
   "metadata": {},
   "outputs": [
    {
     "name": "stdout",
     "output_type": "stream",
     "text": [
      "href=\"sra/SRX19697903[accn]\"\n",
      "href=\"sra/SRX17654229[accn]\"\n",
      "href=\"sra/SRX17654228[accn]\"\n",
      "href=\"sra/SRX17654227[accn]\"\n",
      "href=\"sra/SRX14222110[accn]\"\n",
      "href=\"sra/SRX14222109[accn]\"\n",
      "href=\"sra/SRX14222108[accn]\"\n",
      "href=\"sra/SRX14222107[accn]\"\n",
      "href=\"sra/SRX14213007[accn]\"\n",
      "href=\"sra/SRX14213006[accn]\"\n",
      "href=\"sra/SRX14213005[accn]\"\n",
      "href=\"sra/SRX14213004[accn]\"\n",
      "href=\"sra/SRX9968998[accn]\"\n",
      "href=\"sra/SRX8120039[accn]\"\n",
      "href=\"sra/SRX8120028[accn]\"\n"
     ]
    }
   ],
   "source": [
    "# #Get each href link to pull titles and append with accession list\n",
    "# for accessions in data:\n",
    "#     href = f'href=\"sra/{accessions}[accn]\"'\n",
    "#     print(href)"
   ]
  },
  {
   "cell_type": "code",
   "execution_count": null,
   "metadata": {},
   "outputs": [
    {
     "name": "stdout",
     "output_type": "stream",
     "text": [
      "<div class=\"rslt\"><p class=\"title\"><a href=\"/sra/SRX19697903[accn]\" ref=\"ordinalpos=1&amp;ncbi_uid=27005456&amp;link_uid=27005456\"><b>ONT</b> <b>Direct</b> RNA Sequencing of E. coli K12 MG1655</a></p><div class=\"supp\"><p class=\"details expand e-hidden\">1 OXFORD_NANOPORE (MinION) run: 392,041 spots, 301.3M bases, 274.2Mb downloads</p></div><div class=\"aux\"><div class=\"resc\"><dl class=\"rprtid\"><dt>Accession: </dt> <dd>SRX19697903</dd></dl></div><p class=\"links nohighlight\"></p></div></div>\n",
      "[]\n"
     ]
    }
   ],
   "source": [
    "parser_title = BeautifulSoup(src, \"lxml\")\n",
    "table_title = parser.find(\"div\", attrs={\"class\": \"rslt\"})\n",
    "print(table_title)\n",
    "# title_data = parser_title.find_all(\"/p\")\n",
    "# print(title_data)\n"
   ]
  },
  {
   "cell_type": "code",
   "execution_count": null,
   "metadata": {},
   "outputs": [],
   "source": []
  },
  {
   "cell_type": "code",
   "execution_count": null,
   "metadata": {},
   "outputs": [],
   "source": [
    "#Df for accession numbers \n",
    "df = pd.DataFrame(data, columns=['Accession_number'], dtype= str)\n"
   ]
  },
  {
   "cell_type": "code",
   "execution_count": null,
   "metadata": {},
   "outputs": [],
   "source": [
    "#Convert df into csv files for the accession numbers\n",
    "df.to_csv('/Users/irazemagarcia/MS_Bioinformatics/Advanced Data Management/Final project/Final_script/data/accession_list1.csv')"
   ]
  },
  {
   "cell_type": "code",
   "execution_count": null,
   "metadata": {},
   "outputs": [],
   "source": [
    "#Find all results\n",
    "# b = []\n",
    "# xpath = '/html/body/div[1]/div[1]/form/div[1]/div[4]/div/div[5]/div[{}]/div[2]/p/a'\n",
    "\n",
    "# xpath = while driver.find_elements(By.XPATH, '/html/body/div[1]/div[1]/form/div[1]/div[4]/div/div[5]/div[1]/div[2]/p/a')\n",
    "\n"
   ]
  },
  {
   "cell_type": "code",
   "execution_count": null,
   "metadata": {},
   "outputs": [],
   "source": [
    "#\n",
    "# for i in accn:\n",
    "\n",
    "# title = driver.find_element(By.LINK_TEXT, 'href=\"/sra/{})"
   ]
  }
 ],
 "metadata": {
  "kernelspec": {
   "display_name": "Python 3.8.8 ('base')",
   "language": "python",
   "name": "python3"
  },
  "language_info": {
   "codemirror_mode": {
    "name": "ipython",
    "version": 3
   },
   "file_extension": ".py",
   "mimetype": "text/x-python",
   "name": "python",
   "nbconvert_exporter": "python",
   "pygments_lexer": "ipython3",
   "version": "3.8.8"
  },
  "orig_nbformat": 4,
  "vscode": {
   "interpreter": {
    "hash": "9e6a7b3bb131e94ed52db73f4e7adc35a1722f5ef2c3bea1ef3be75c3e7e4535"
   }
  }
 },
 "nbformat": 4,
 "nbformat_minor": 2
}
