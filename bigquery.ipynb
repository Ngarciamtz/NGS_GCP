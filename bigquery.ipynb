{
 "cells": [
  {
   "cell_type": "code",
   "execution_count": 1,
   "metadata": {},
   "outputs": [],
   "source": [
    "#Upgrade pip"
   ]
  },
  {
   "cell_type": "code",
   "execution_count": 5,
   "metadata": {},
   "outputs": [
    {
     "name": "stdout",
     "output_type": "stream",
     "text": [
      "Requirement already satisfied: pip in /Users/irazemagarcia/opt/anaconda3/lib/python3.8/site-packages (22.2.2)\n",
      "Collecting pip\n",
      "  Downloading pip-23.1.1-py3-none-any.whl (2.1 MB)\n",
      "\u001b[2K     \u001b[90m━━━━━━━━━━━━━━━━━━━━━━━━━━━━━━━━━━━━━━━━\u001b[0m \u001b[32m2.1/2.1 MB\u001b[0m \u001b[31m15.1 MB/s\u001b[0m eta \u001b[36m0:00:00\u001b[0ma \u001b[36m0:00:01\u001b[0m\n",
      "\u001b[?25hInstalling collected packages: pip\n",
      "  Attempting uninstall: pip\n",
      "    Found existing installation: pip 22.2.2\n",
      "    Uninstalling pip-22.2.2:\n",
      "      Successfully uninstalled pip-22.2.2\n",
      "Successfully installed pip-23.1.1\n",
      "Note: you may need to restart the kernel to use updated packages.\n"
     ]
    }
   ],
   "source": [
    "pip install --upgrade pip"
   ]
  },
  {
   "cell_type": "code",
   "execution_count": 2,
   "metadata": {},
   "outputs": [],
   "source": [
    "#Install google big query package"
   ]
  },
  {
   "cell_type": "code",
   "execution_count": 6,
   "metadata": {},
   "outputs": [
    {
     "name": "stdout",
     "output_type": "stream",
     "text": [
      "Collecting google-cloud-bigquery\n",
      "  Downloading google_cloud_bigquery-3.10.0-py2.py3-none-any.whl (218 kB)\n",
      "\u001b[2K     \u001b[90m━━━━━━━━━━━━━━━━━━━━━━━━━━━━━━━━━━━━━━━\u001b[0m \u001b[32m218.4/218.4 kB\u001b[0m \u001b[31m1.4 MB/s\u001b[0m eta \u001b[36m0:00:00\u001b[0ma \u001b[36m0:00:01\u001b[0m\n",
      "\u001b[?25hCollecting grpcio<2.0dev,>=1.47.0 (from google-cloud-bigquery)\n",
      "  Downloading grpcio-1.54.0-cp38-cp38-macosx_10_10_universal2.whl (8.7 MB)\n",
      "\u001b[2K     \u001b[90m━━━━━━━━━━━━━━━━━━━━━━━━━━━━━━━━━━━━━━━━\u001b[0m \u001b[32m8.7/8.7 MB\u001b[0m \u001b[31m42.2 MB/s\u001b[0m eta \u001b[36m0:00:00\u001b[0m00:01\u001b[0m00:01\u001b[0m\n",
      "\u001b[?25hRequirement already satisfied: google-api-core[grpc]!=2.0.*,!=2.1.*,!=2.2.*,!=2.3.0,<3.0.0dev,>=1.31.5 in /Users/irazemagarcia/opt/anaconda3/lib/python3.8/site-packages (from google-cloud-bigquery) (2.11.0)\n",
      "Collecting proto-plus<2.0.0dev,>=1.15.0 (from google-cloud-bigquery)\n",
      "  Downloading proto_plus-1.22.2-py3-none-any.whl (47 kB)\n",
      "\u001b[2K     \u001b[90m━━━━━━━━━━━━━━━━━━━━━━━━━━━━━━━━━━━━━━━━\u001b[0m \u001b[32m47.9/47.9 kB\u001b[0m \u001b[31m9.9 MB/s\u001b[0m eta \u001b[36m0:00:00\u001b[0m\n",
      "\u001b[?25hRequirement already satisfied: google-cloud-core<3.0.0dev,>=1.6.0 in /Users/irazemagarcia/opt/anaconda3/lib/python3.8/site-packages (from google-cloud-bigquery) (2.3.2)\n",
      "Requirement already satisfied: google-resumable-media<3.0dev,>=0.6.0 in /Users/irazemagarcia/opt/anaconda3/lib/python3.8/site-packages (from google-cloud-bigquery) (2.4.1)\n",
      "Requirement already satisfied: packaging>=20.0.0 in /Users/irazemagarcia/opt/anaconda3/lib/python3.8/site-packages (from google-cloud-bigquery) (20.9)\n",
      "Requirement already satisfied: protobuf!=3.20.0,!=3.20.1,!=4.21.0,!=4.21.1,!=4.21.2,!=4.21.3,!=4.21.4,!=4.21.5,<5.0.0dev,>=3.19.5 in /Users/irazemagarcia/opt/anaconda3/lib/python3.8/site-packages (from google-cloud-bigquery) (4.22.3)\n",
      "Requirement already satisfied: python-dateutil<3.0dev,>=2.7.2 in /Users/irazemagarcia/opt/anaconda3/lib/python3.8/site-packages (from google-cloud-bigquery) (2.8.1)\n",
      "Requirement already satisfied: requests<3.0.0dev,>=2.21.0 in /Users/irazemagarcia/opt/anaconda3/lib/python3.8/site-packages (from google-cloud-bigquery) (2.28.1)\n",
      "Requirement already satisfied: googleapis-common-protos<2.0dev,>=1.56.2 in /Users/irazemagarcia/opt/anaconda3/lib/python3.8/site-packages (from google-api-core[grpc]!=2.0.*,!=2.1.*,!=2.2.*,!=2.3.0,<3.0.0dev,>=1.31.5->google-cloud-bigquery) (1.59.0)\n",
      "Requirement already satisfied: google-auth<3.0dev,>=2.14.1 in /Users/irazemagarcia/opt/anaconda3/lib/python3.8/site-packages (from google-api-core[grpc]!=2.0.*,!=2.1.*,!=2.2.*,!=2.3.0,<3.0.0dev,>=1.31.5->google-cloud-bigquery) (2.17.3)\n",
      "Collecting grpcio-status<2.0dev,>=1.33.2 (from google-api-core[grpc]!=2.0.*,!=2.1.*,!=2.2.*,!=2.3.0,<3.0.0dev,>=1.31.5->google-cloud-bigquery)\n",
      "  Downloading grpcio_status-1.54.0-py3-none-any.whl (5.1 kB)\n",
      "Requirement already satisfied: google-crc32c<2.0dev,>=1.0 in /Users/irazemagarcia/opt/anaconda3/lib/python3.8/site-packages (from google-resumable-media<3.0dev,>=0.6.0->google-cloud-bigquery) (1.5.0)\n",
      "Requirement already satisfied: pyparsing>=2.0.2 in /Users/irazemagarcia/opt/anaconda3/lib/python3.8/site-packages (from packaging>=20.0.0->google-cloud-bigquery) (2.4.7)\n",
      "Requirement already satisfied: six>=1.5 in /Users/irazemagarcia/opt/anaconda3/lib/python3.8/site-packages (from python-dateutil<3.0dev,>=2.7.2->google-cloud-bigquery) (1.15.0)\n",
      "Requirement already satisfied: charset-normalizer<3,>=2 in /Users/irazemagarcia/opt/anaconda3/lib/python3.8/site-packages (from requests<3.0.0dev,>=2.21.0->google-cloud-bigquery) (2.1.1)\n",
      "Requirement already satisfied: idna<4,>=2.5 in /Users/irazemagarcia/opt/anaconda3/lib/python3.8/site-packages (from requests<3.0.0dev,>=2.21.0->google-cloud-bigquery) (2.8)\n",
      "Requirement already satisfied: urllib3<1.27,>=1.21.1 in /Users/irazemagarcia/opt/anaconda3/lib/python3.8/site-packages (from requests<3.0.0dev,>=2.21.0->google-cloud-bigquery) (1.26.15)\n",
      "Requirement already satisfied: certifi>=2017.4.17 in /Users/irazemagarcia/opt/anaconda3/lib/python3.8/site-packages (from requests<3.0.0dev,>=2.21.0->google-cloud-bigquery) (2022.12.7)\n",
      "Requirement already satisfied: cachetools<6.0,>=2.0.0 in /Users/irazemagarcia/opt/anaconda3/lib/python3.8/site-packages (from google-auth<3.0dev,>=2.14.1->google-api-core[grpc]!=2.0.*,!=2.1.*,!=2.2.*,!=2.3.0,<3.0.0dev,>=1.31.5->google-cloud-bigquery) (5.3.0)\n",
      "Requirement already satisfied: pyasn1-modules>=0.2.1 in /Users/irazemagarcia/opt/anaconda3/lib/python3.8/site-packages (from google-auth<3.0dev,>=2.14.1->google-api-core[grpc]!=2.0.*,!=2.1.*,!=2.2.*,!=2.3.0,<3.0.0dev,>=1.31.5->google-cloud-bigquery) (0.3.0)\n",
      "Requirement already satisfied: rsa<5,>=3.1.4 in /Users/irazemagarcia/opt/anaconda3/lib/python3.8/site-packages (from google-auth<3.0dev,>=2.14.1->google-api-core[grpc]!=2.0.*,!=2.1.*,!=2.2.*,!=2.3.0,<3.0.0dev,>=1.31.5->google-cloud-bigquery) (4.9)\n",
      "Requirement already satisfied: pyasn1<0.6.0,>=0.4.6 in /Users/irazemagarcia/opt/anaconda3/lib/python3.8/site-packages (from pyasn1-modules>=0.2.1->google-auth<3.0dev,>=2.14.1->google-api-core[grpc]!=2.0.*,!=2.1.*,!=2.2.*,!=2.3.0,<3.0.0dev,>=1.31.5->google-cloud-bigquery) (0.5.0)\n",
      "Installing collected packages: proto-plus, grpcio, grpcio-status, google-cloud-bigquery\n",
      "Successfully installed google-cloud-bigquery-3.10.0 grpcio-1.54.0 grpcio-status-1.54.0 proto-plus-1.22.2\n",
      "Note: you may need to restart the kernel to use updated packages.\n"
     ]
    }
   ],
   "source": [
    "pip install --upgrade google-cloud-bigquery"
   ]
  },
  {
   "cell_type": "code",
   "execution_count": 44,
   "metadata": {},
   "outputs": [
    {
     "name": "stdout",
     "output_type": "stream",
     "text": [
      "Requirement already satisfied: google.cloud in /Users/irazemagarcia/opt/anaconda3/lib/python3.8/site-packages (0.34.0)\n",
      "Note: you may need to restart the kernel to use updated packages.\n"
     ]
    }
   ],
   "source": [
    "pip install google.cloud"
   ]
  },
  {
   "cell_type": "code",
   "execution_count": 59,
   "metadata": {},
   "outputs": [],
   "source": [
    "from google.cloud import bigquery\n",
    "from google.cloud import storage\n",
    "import glob\n",
    "import os \n",
    "\n",
    "\n",
    "#Enter private key\n",
    "os.environ[\"GOOGLE_APPLICATION_CREDENTIALS\"] = r'/Users/irazemagarcia/MS_Bioinformatics/Advanced Data Management/Final project/Final_script/data/vernal-maker-382917-dc86aa667ea5.json'\n",
    "# Construct a BigQuery client object.\n",
    "client = bigquery.Client()\n",
    "\n",
    "# Set table_id to the ID of the table to create.\n",
    "table_id = \"vernal-maker-382917.SRR13570801_fast5.md-SRR13570801\"\n",
    "\n",
    "job_config = bigquery.LoadJobConfig(\n",
    "    schema=[\n",
    "        bigquery.SchemaField('study_accession', 'STRING'),\n",
    "        bigquery.SchemaField('study_title', 'STRING'),\n",
    "        bigquery.SchemaField('experiment_accession', 'STRING'),\n",
    "        bigquery.SchemaField('experiment_title', 'STRING'),\n",
    "        bigquery.SchemaField('experiment_desc', 'STRING'),\n",
    "        bigquery.SchemaField('organism_taxid', 'STRING'),\n",
    "        bigquery.SchemaField('organism_name', 'STRING'),\n",
    "        bigquery.SchemaField('library_name', 'STRING'),\n",
    "        bigquery.SchemaField('library_strategy', 'STRING'),\n",
    "        bigquery.SchemaField('library_source', 'STRING'),\n",
    "        bigquery.SchemaField('library_selection', 'STRING'),\n",
    "        bigquery.SchemaField('library_layout', 'STRING'),\n",
    "        bigquery.SchemaField('sample_accession', 'STRING'),\n",
    "        bigquery.SchemaField('sample_title', 'STRING'),\n",
    "        bigquery.SchemaField('instrument', 'STRING'),\n",
    "        bigquery.SchemaField('instrument_model', 'STRING'),\n",
    "        bigquery.SchemaField('instrument_model_desc', 'STRING'),\n",
    "        bigquery.SchemaField('total_spots', 'STRING'),\n",
    "        bigquery.SchemaField('total_size', 'STRING'),\n",
    "        bigquery.SchemaField('run_accession', 'STRING'),\n",
    "        bigquery.SchemaField('run_total_spots', 'STRING'),\n",
    "        bigquery.SchemaField('run_total_bases', 'STRING')\n",
    "    ],\n",
    "    source_format=bigquery.SourceFormat.CSV,\n",
    ")"
   ]
  },
  {
   "cell_type": "code",
   "execution_count": 58,
   "metadata": {},
   "outputs": [
    {
     "data": {
      "text/plain": [
       "LoadJob<project=vernal-maker-382917, location=US, id=03508c00-c79f-4363-bcaf-18a96a69a7d7>"
      ]
     },
     "execution_count": 58,
     "metadata": {},
     "output_type": "execute_result"
    }
   ],
   "source": [
    "#Define URI from the file in bucket to be transferred to BigQuery\n",
    "uri = \"gs://project1-db/md_SRR13570801.csv\"\n",
    "\n",
    "\n",
    "load_job = client.load_table_from_uri(\n",
    "    uri, table_id, job_config=job_config\n",
    ")  # Make an API request.\n",
    "\n",
    "load_job.result()  # Waits for the job to complete."
   ]
  }
 ],
 "metadata": {
  "kernelspec": {
   "display_name": "Python 3.8.8 ('base')",
   "language": "python",
   "name": "python3"
  },
  "language_info": {
   "codemirror_mode": {
    "name": "ipython",
    "version": 3
   },
   "file_extension": ".py",
   "mimetype": "text/x-python",
   "name": "python",
   "nbconvert_exporter": "python",
   "pygments_lexer": "ipython3",
   "version": "3.8.8"
  },
  "orig_nbformat": 4,
  "vscode": {
   "interpreter": {
    "hash": "9e6a7b3bb131e94ed52db73f4e7adc35a1722f5ef2c3bea1ef3be75c3e7e4535"
   }
  }
 },
 "nbformat": 4,
 "nbformat_minor": 2
}
