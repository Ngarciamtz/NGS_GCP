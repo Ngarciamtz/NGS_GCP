{
 "cells": [
  {
   "cell_type": "code",
   "execution_count": 17,
   "metadata": {},
   "outputs": [
    {
     "name": "stdout",
     "output_type": "stream",
     "text": [
      "Requirement already satisfied: google-cloud-storage in /Users/irazemagarcia/opt/anaconda3/lib/python3.8/site-packages (2.8.0)\n",
      "Requirement already satisfied: google-auth<3.0dev,>=1.25.0 in /Users/irazemagarcia/opt/anaconda3/lib/python3.8/site-packages (from google-cloud-storage) (2.17.3)\n",
      "Requirement already satisfied: requests<3.0.0dev,>=2.18.0 in /Users/irazemagarcia/opt/anaconda3/lib/python3.8/site-packages (from google-cloud-storage) (2.28.1)\n",
      "Requirement already satisfied: google-api-core!=2.0.*,!=2.1.*,!=2.2.*,!=2.3.0,<3.0.0dev,>=1.31.5 in /Users/irazemagarcia/opt/anaconda3/lib/python3.8/site-packages (from google-cloud-storage) (2.11.0)\n",
      "Requirement already satisfied: google-resumable-media>=2.3.2 in /Users/irazemagarcia/opt/anaconda3/lib/python3.8/site-packages (from google-cloud-storage) (2.4.1)\n",
      "Requirement already satisfied: google-cloud-core<3.0dev,>=2.3.0 in /Users/irazemagarcia/opt/anaconda3/lib/python3.8/site-packages (from google-cloud-storage) (2.3.2)\n",
      "Requirement already satisfied: protobuf!=3.20.0,!=3.20.1,!=4.21.0,!=4.21.1,!=4.21.2,!=4.21.3,!=4.21.4,!=4.21.5,<5.0.0dev,>=3.19.5 in /Users/irazemagarcia/opt/anaconda3/lib/python3.8/site-packages (from google-api-core!=2.0.*,!=2.1.*,!=2.2.*,!=2.3.0,<3.0.0dev,>=1.31.5->google-cloud-storage) (4.22.3)\n",
      "Requirement already satisfied: googleapis-common-protos<2.0dev,>=1.56.2 in /Users/irazemagarcia/opt/anaconda3/lib/python3.8/site-packages (from google-api-core!=2.0.*,!=2.1.*,!=2.2.*,!=2.3.0,<3.0.0dev,>=1.31.5->google-cloud-storage) (1.59.0)\n",
      "Requirement already satisfied: cachetools<6.0,>=2.0.0 in /Users/irazemagarcia/opt/anaconda3/lib/python3.8/site-packages (from google-auth<3.0dev,>=1.25.0->google-cloud-storage) (5.3.0)\n",
      "Requirement already satisfied: six>=1.9.0 in /Users/irazemagarcia/opt/anaconda3/lib/python3.8/site-packages (from google-auth<3.0dev,>=1.25.0->google-cloud-storage) (1.15.0)\n",
      "Requirement already satisfied: rsa<5,>=3.1.4 in /Users/irazemagarcia/opt/anaconda3/lib/python3.8/site-packages (from google-auth<3.0dev,>=1.25.0->google-cloud-storage) (4.9)\n",
      "Requirement already satisfied: pyasn1-modules>=0.2.1 in /Users/irazemagarcia/opt/anaconda3/lib/python3.8/site-packages (from google-auth<3.0dev,>=1.25.0->google-cloud-storage) (0.3.0)\n",
      "Requirement already satisfied: google-crc32c<2.0dev,>=1.0 in /Users/irazemagarcia/opt/anaconda3/lib/python3.8/site-packages (from google-resumable-media>=2.3.2->google-cloud-storage) (1.5.0)\n",
      "Requirement already satisfied: charset-normalizer<3,>=2 in /Users/irazemagarcia/opt/anaconda3/lib/python3.8/site-packages (from requests<3.0.0dev,>=2.18.0->google-cloud-storage) (2.1.1)\n",
      "Requirement already satisfied: certifi>=2017.4.17 in /Users/irazemagarcia/opt/anaconda3/lib/python3.8/site-packages (from requests<3.0.0dev,>=2.18.0->google-cloud-storage) (2022.12.7)\n",
      "Requirement already satisfied: idna<4,>=2.5 in /Users/irazemagarcia/opt/anaconda3/lib/python3.8/site-packages (from requests<3.0.0dev,>=2.18.0->google-cloud-storage) (2.8)\n",
      "Requirement already satisfied: urllib3<1.27,>=1.21.1 in /Users/irazemagarcia/opt/anaconda3/lib/python3.8/site-packages (from requests<3.0.0dev,>=2.18.0->google-cloud-storage) (1.26.15)\n",
      "Requirement already satisfied: pyasn1<0.6.0,>=0.4.6 in /Users/irazemagarcia/opt/anaconda3/lib/python3.8/site-packages (from pyasn1-modules>=0.2.1->google-auth<3.0dev,>=1.25.0->google-cloud-storage) (0.5.0)\n",
      "\n",
      "\u001b[1m[\u001b[0m\u001b[34;49mnotice\u001b[0m\u001b[1;39;49m]\u001b[0m\u001b[39;49m A new release of pip available: \u001b[0m\u001b[31;49m22.2.2\u001b[0m\u001b[39;49m -> \u001b[0m\u001b[32;49m23.1\u001b[0m\n",
      "\u001b[1m[\u001b[0m\u001b[34;49mnotice\u001b[0m\u001b[1;39;49m]\u001b[0m\u001b[39;49m To update, run: \u001b[0m\u001b[32;49mpip install --upgrade pip\u001b[0m\n",
      "Note: you may need to restart the kernel to use updated packages.\n"
     ]
    }
   ],
   "source": [
    "#install pip\n",
    "pip install google-cloud-storage\n"
   ]
  },
  {
   "cell_type": "code",
   "execution_count": 23,
   "metadata": {},
   "outputs": [
    {
     "data": {
      "text/plain": [
       "True"
      ]
     },
     "execution_count": 23,
     "metadata": {},
     "output_type": "execute_result"
    }
   ],
   "source": [
    "# import packages\n",
    "from google.cloud import storage\n",
    "import os\n",
    "\n",
    "# set key credentials file path\n",
    "os.environ[\"GOOGLE_APPLICATION_CREDENTIALS\"] = r'/Users/irazemagarcia/MS_Bioinformatics/Advanced Data Management/Final project/Final_script/data/vernal-maker-382917-8ab78a1fd8fc.json'\n",
    "\n",
    "# define function that uploads a file from the bucket\n",
    "def upload_cs_file(bucket_name, source_file_name, destination_file_name): \n",
    "    storage_client = storage.Client()\n",
    "\n",
    "    bucket = storage_client.bucket(bucket_name)\n",
    "\n",
    "    blob = bucket.blob(destination_file_name)\n",
    "    blob.upload_from_filename(source_file_name)\n",
    "\n",
    "    return True\n",
    "upload_cs_file(bucket_name=\"project1-db\",source_file_name= \"/Users/irazemagarcia/MS_Bioinformatics/Advanced Data Management/Final project/Final_script/data/fast5url.csv\", destination_file_name= \"fast5url.csv\")"
   ]
  },
  {
   "cell_type": "code",
   "execution_count": null,
   "metadata": {},
   "outputs": [],
   "source": [
    "# import packages\n",
    "from google.cloud import storage\n",
    "import os\n",
    "\n",
    "# set key credentials file path\n",
    "os.environ[\"GOOGLE_APPLICATION_CREDENTIALS\"] = r'/Users/irazemagarcia/MS_Bioinformatics/Advanced Data Management/Final project/Final_script/data/vernal-maker-382917-8ab78a1fd8fc.json'\n",
    "\n",
    "# define function that uploads a file from the bucket\n",
    "def upload_cs_file(bucket_name, source_file_name, destination_file_name): \n",
    "    storage_client = storage.Client()\n",
    "\n",
    "    bucket = storage_client.bucket(bucket_name)\n",
    "\n",
    "    blob = bucket.blob(destination_file_name)\n",
    "    blob.upload_from_filename(source_file_name)\n",
    "\n",
    "    return True\n",
    "upload_cs_file(bucket_name=\"project1-db\",source_file_name= \"/Users/irazemagarcia/MS_Bioinformatics/Advanced Data Management/Final project/Final_script/data/fast5url.csv\", destination_file_name= \"fast5url.csv\")"
   ]
  },
  {
   "cell_type": "code",
   "execution_count": 26,
   "metadata": {},
   "outputs": [],
   "source": [
    "# # import packages\n",
    "# from google.cloud import storage\n",
    "# import os\n",
    "\n",
    "# # set key credentials file path\n",
    "# os.environ[\"GOOGLE_APPLICATION_CREDENTIALS\"] = r'/Users/irazemagarcia/MS_Bioinformatics/Advanced Data Management/Final project/Final_script/data/vernal-maker-382917-8ab78a1fd8fc.json'\n",
    "\n",
    "# # define function that uploads a file from the bucket\n",
    "# def upload_cs_file(bucket_name, source_file_name, destination_file_name): \n",
    "#     storage_client = storage.Client()\n",
    "\n",
    "#     bucket = storage_client.bucket(bucket_name)\n",
    "\n",
    "#     blob = bucket.blob(destination_file_name)\n",
    "#     blob.upload_from_filename(source_file_name)\n",
    "\n",
    "#     return True\n",
    "# upload_cs_file(bucket_name=\"project1-db\",source_file_name= \"/Users/irazemagarcia/MS_Bioinformatics/Advanced Data Management/Final project/Final_script/Metadata\", destination_file_name= \"Metadata\")\n",
    "\n",
    "\n",
    "\n",
    "\n",
    "import glob\n",
    "import os \n",
    "from google.cloud import storage\n",
    "\n",
    "GCS_CLIENT = storage.Client()\n",
    "def upload_from_directory(directory_path: str, dest_bucket_name: str, dest_blob_name: str):\n",
    "    rel_paths = glob.glob(directory_path + '/**', recursive=True)\n",
    "    bucket = GCS_CLIENT.bucket(dest_bucket_name)\n",
    "    for local_file in rel_paths:\n",
    "        remote_path = f'{dest_blob_name}/{\"/\".join(local_file.split(os.sep)[1:])}'\n",
    "        if os.path.isfile(local_file):\n",
    "            blob = bucket.blob(remote_path)\n",
    "            blob.upload_from_filename(local_file)\n",
    "\n",
    "upload_from_directory(directory_path=\"./Metadata/\",dest_bucket_name=\"project1-db\", dest_blob_name= \"Metadata\")"
   ]
  },
  {
   "cell_type": "code",
   "execution_count": 30,
   "metadata": {},
   "outputs": [
    {
     "data": {
      "text/plain": [
       "True"
      ]
     },
     "execution_count": 30,
     "metadata": {},
     "output_type": "execute_result"
    }
   ],
   "source": [
    "\n",
    "import glob\n",
    "import os \n",
    "from google.cloud import storage\n",
    "\n",
    "# GCS_CLIENT = storage.Client()\n",
    "def upload_from_directory(directory_path: str, dest_bucket_name: str, dest_blob_name: str):\n",
    "    rel_paths = glob.glob(directory_path + '/**', recursive=True)\n",
    "    bucket = GCS_CLIENT.bucket(dest_bucket_name)\n",
    "    for local_file in rel_paths:\n",
    "        remote_path = f'{dest_blob_name}/{\"/\".join(local_file.split(os.sep)[1:])}'\n",
    "        if os.path.isfile(local_file):\n",
    "            blob = bucket.blob(remote_path)\n",
    "            blob.upload_from_filename(local_file)\n",
    "\n",
    "upload_cs_file(bucket_name=\"project1-db\",source_file_name= \"./RNAAB063141_00DMS_fast5.tar.gz.1\", destination_file_name= \"SRR13570801_fast5.tar.gz.1\")\n",
    "# upload_from_directory(directory_path=\"/Users/irazemagarcia/MS_Bioinformatics/Advanced Data Management/Final project/Final_script/RDMIN20210517-fast5.tar.gz.2\",dest_bucket_name=\"project1-db\", dest_blob_name= \"SRR18070402-fast5.tar.gz.2\")"
   ]
  },
  {
   "cell_type": "code",
   "execution_count": 31,
   "metadata": {},
   "outputs": [
    {
     "data": {
      "text/plain": [
       "True"
      ]
     },
     "execution_count": 31,
     "metadata": {},
     "output_type": "execute_result"
    }
   ],
   "source": [
    "upload_cs_file(bucket_name=\"project1-db\",source_file_name= \"./MD_SRR13570801.csv\", destination_file_name= \"md_SRR13570801.csv\")\n"
   ]
  }
 ],
 "metadata": {
  "kernelspec": {
   "display_name": "Python 3.8.8 ('base')",
   "language": "python",
   "name": "python3"
  },
  "language_info": {
   "codemirror_mode": {
    "name": "ipython",
    "version": 3
   },
   "file_extension": ".py",
   "mimetype": "text/x-python",
   "name": "python",
   "nbconvert_exporter": "python",
   "pygments_lexer": "ipython3",
   "version": "3.8.8"
  },
  "orig_nbformat": 4,
  "vscode": {
   "interpreter": {
    "hash": "9e6a7b3bb131e94ed52db73f4e7adc35a1722f5ef2c3bea1ef3be75c3e7e4535"
   }
  }
 },
 "nbformat": 4,
 "nbformat_minor": 2
}
